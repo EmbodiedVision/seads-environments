{
 "cells": [
  {
   "cell_type": "code",
   "execution_count": null,
   "id": "3c5dacfb",
   "metadata": {},
   "outputs": [],
   "source": [
    "import sys\n",
    "from pathlib import Path\n",
    "import matplotlib.pyplot as plt\n",
    "import numpy as np\n",
    "import os\n",
    "\n",
    "parent_path = str(Path(\"../\").resolve())\n",
    "print(parent_path)\n",
    "sys.path.append(parent_path)\n",
    "\n",
    "from seads_envs import load_env"
   ]
  },
  {
   "cell_type": "code",
   "execution_count": null,
   "id": "6a66e35f",
   "metadata": {},
   "outputs": [],
   "source": [
    "os.system(\"rm -r board_game_gif\")\n",
    "os.makedirs(\"board_game_gif\")\n",
    "\n",
    "def render_sequence(env, env_name, push_sequence, get_push_loc_fcn):\n",
    "    env.unwrapped._discrete_env._zero_board()\n",
    "    for action in reversed(push_sequence):\n",
    "        env.unwrapped._discrete_env.step(action)\n",
    "    \n",
    "    for idx, action in enumerate(push_sequence):\n",
    "        # plot board before action\n",
    "        fig, ax = plt.subplots(nrows=1, ncols=1)\n",
    "        env.plot_board(ax, board_state=env.board_state)\n",
    "        ax.scatter(*get_push_loc_fcn(action), marker=\"x\", s=250, linewidth=5, color=\"darkblue\")\n",
    "        plt.savefig(f\"board_game_gif/{env_name}_{idx*2:03}.png\", bbox_inches=\"tight\")\n",
    "\n",
    "        env.unwrapped._discrete_env.step(action)\n",
    "\n",
    "        # plot board after action\n",
    "        fig, ax = plt.subplots(nrows=1, ncols=1)\n",
    "        env.plot_board(ax, board_state=env.board_state)\n",
    "        ax.scatter(*get_push_loc_fcn(action), marker=\"x\", s=250, linewidth=5, color=\"darkblue\")\n",
    "        plt.savefig(f\"board_game_gif/{env_name}_{idx*2+1:03}.png\", bbox_inches=\"tight\")\n",
    "    \n",
    "    os.system(\n",
    "        \"ffmpeg -hide_banner -loglevel error -pattern_type glob \"\n",
    "        f\"-i 'board_game_gif/{env_name}_*.png' -vf palettegen board_game_gif/palette_{env_name}.png\"\n",
    "    )\n",
    "    os.system(\n",
    "        \"ffmpeg -hide_banner -loglevel error -framerate 1 \"\n",
    "        \"-loop 0 -pattern_type \"\n",
    "        f\"glob -i 'board_game_gif/{env_name}_*.png' \"\n",
    "        f\"-i board_game_gif/palette_{env_name}.png \"\n",
    "        f\"-lavfi paletteuse board_game_gif/{env_name}.gif\"\n",
    "    )\n"
   ]
  },
  {
   "cell_type": "code",
   "execution_count": null,
   "id": "55ad6a3a",
   "metadata": {},
   "outputs": [],
   "source": [
    "# LightsOut\n",
    "env_name = \"LightsOutCursorEnvBs5\"\n",
    "reset_split = \"train\"\n",
    "env_kwargs = {\n",
    "    \"max_solution_depth\": 1, \n",
    "    \"random_solution_depth\": False, \n",
    "    \"max_steps\": 10, \n",
    "}\n",
    "env = load_env(env_name, reset_split, env_kwargs)\n",
    "\n",
    "push_sequence = [12, 18, 17, 9, 22]\n",
    "\n",
    "def get_push_loc_lightsout(action):\n",
    "    row = action // 5\n",
    "    col = action - row * 5\n",
    "    push_loc = 0.5+(col-2)/5, 0.5+(row-2)/5\n",
    "    return push_loc\n",
    "\n",
    "render_sequence(env, \"lightsout\", push_sequence, get_push_loc_lightsout)"
   ]
  },
  {
   "cell_type": "markdown",
   "id": "fca4558e",
   "metadata": {},
   "source": [
    "<img src=\"board_game_gif/lightsout.gif\" width=\"250\" align=\"center\">"
   ]
  },
  {
   "cell_type": "code",
   "execution_count": null,
   "id": "83df6aa6",
   "metadata": {},
   "outputs": [],
   "source": [
    "# TileSwap\n",
    "env_name = \"TileSwapCursorEnvBs3\"\n",
    "reset_split = \"train\"\n",
    "env_kwargs = {\n",
    "    \"max_solution_depth\": 1, \n",
    "    \"random_solution_depth\": False, \n",
    "    \"max_steps\": 10, \n",
    "}\n",
    "env = load_env(env_name, reset_split, env_kwargs)\n",
    "\n",
    "push_sequence = [1, 4, 2, 5, 7]\n",
    "\n",
    "pivot_points = np.array(env.unwrapped.board._pivot_points)\n",
    "swap_indices = env.unwrapped.board._swap_indices\n",
    "\n",
    "def get_push_loc_tileswap(action):\n",
    "    return pivot_points[action]\n",
    "\n",
    "def step_tileswap(action):\n",
    "    env.unwrapped._discrete_env.swap(*swap_indices[action])\n",
    "\n",
    "env.unwrapped._discrete_env.step = step_tileswap\n",
    "    \n",
    "render_sequence(env, \"tileswap\", push_sequence, get_push_loc_tileswap)"
   ]
  },
  {
   "cell_type": "markdown",
   "id": "b98d47e3",
   "metadata": {},
   "source": [
    "<img src=\"board_game_gif/tileswap.gif\" width=\"250\" align=\"center\">"
   ]
  },
  {
   "cell_type": "code",
   "execution_count": null,
   "id": "b12ddd5e",
   "metadata": {},
   "outputs": [],
   "source": []
  }
 ],
 "metadata": {
  "kernelspec": {
   "display_name": "Python 3 (ipykernel)",
   "language": "python",
   "name": "python3"
  },
  "language_info": {
   "codemirror_mode": {
    "name": "ipython",
    "version": 3
   },
   "file_extension": ".py",
   "mimetype": "text/x-python",
   "name": "python",
   "nbconvert_exporter": "python",
   "pygments_lexer": "ipython3",
   "version": "3.8.10"
  }
 },
 "nbformat": 4,
 "nbformat_minor": 5
}
